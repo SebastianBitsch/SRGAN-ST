{
 "cells": [
  {
   "cell_type": "code",
   "execution_count": 3,
   "metadata": {},
   "outputs": [],
   "source": [
    "import os\n",
    "import tifftools"
   ]
  },
  {
   "cell_type": "code",
   "execution_count": null,
   "metadata": {},
   "outputs": [],
   "source": [
    "def combine_tiff(path:str, out:str=\"output.tiff\") -> None:\n",
    "    tiff_files_li=[]\n",
    "    for ti in sorted(os.listdir(path)):\n",
    "        if '.tif' in ti:\n",
    "            tiff_files_li.append(path + ti)\n",
    "    tifftools.tiff_concat(tiff_files_li, out, overwrite=True)"
   ]
  },
  {
   "cell_type": "code",
   "execution_count": null,
   "metadata": {},
   "outputs": [],
   "source": []
  },
  {
   "cell_type": "code",
   "execution_count": null,
   "metadata": {},
   "outputs": [],
   "source": []
  }
 ],
 "metadata": {
  "kernelspec": {
   "display_name": ".env",
   "language": "python",
   "name": "python3"
  },
  "language_info": {
   "codemirror_mode": {
    "name": "ipython",
    "version": 3
   },
   "file_extension": ".py",
   "mimetype": "text/x-python",
   "name": "python",
   "nbconvert_exporter": "python",
   "pygments_lexer": "ipython3",
   "version": "3.9.7"
  },
  "orig_nbformat": 4,
  "vscode": {
   "interpreter": {
    "hash": "a19ab1ba5891663eec654cc9f15bbc2e6054c25bfc4e6e066da2fd20d67658da"
   }
  }
 },
 "nbformat": 4,
 "nbformat_minor": 2
}
