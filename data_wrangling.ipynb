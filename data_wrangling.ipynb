{
 "cells": [
  {
   "cell_type": "code",
   "execution_count": 1,
   "metadata": {},
   "outputs": [],
   "source": [
    "\n",
    "import os\n",
    "import sys\n",
    "\n",
    "import numpy as np\n",
    "\n",
    "import tifftools\n",
    "import tifffile as tif\n",
    "from tqdm import tqdm\n",
    "from skimage import io"
   ]
  },
  {
   "cell_type": "code",
   "execution_count": 2,
   "metadata": {},
   "outputs": [],
   "source": [
    "def combine_tiff(path:str, out:str=\"output.tif\") -> None:\n",
    "    tiff_files_li=[]\n",
    "    for ti in sorted(os.listdir(path)):\n",
    "        if '.tif' in ti:\n",
    "            tiff_files_li.append(path + ti)\n",
    "    tifftools.tiff_concat(tiff_files_li, out, overwrite=True)\n",
    "\n",
    "# path = \"data/femur/femur_01/\"\n",
    "# combine_tiff(path, out=\"data/femur/Femur.tiff\")"
   ]
  },
  {
   "cell_type": "code",
   "execution_count": 8,
   "metadata": {},
   "outputs": [
    {
     "name": "stderr",
     "output_type": "stream",
     "text": [
      "100%|██████████| 2455/2455 [00:41<00:00, 59.84it/s]\n"
     ]
    }
   ],
   "source": [
    "path = \"data/femur/femur_01/\"\n",
    "\n",
    "tiff_files = []\n",
    "for file_name in tqdm(sorted(os.listdir(path))):\n",
    "    if '.tif' in file_name:\n",
    "        im = tif.imread(path + file_name, key=0)\n",
    "        tiff_files.append(im)\n",
    "\n",
    "tiff_files = np.array(tiff_files)"
   ]
  },
  {
   "cell_type": "code",
   "execution_count": 12,
   "metadata": {},
   "outputs": [],
   "source": [
    "# Save file\n",
    "tif.imwrite('data/femur/Femur.tif', tiff_files, bigtiff=True)"
   ]
  },
  {
   "attachments": {},
   "cell_type": "markdown",
   "metadata": {},
   "source": [
    "### Test if read works"
   ]
  },
  {
   "cell_type": "code",
   "execution_count": 2,
   "metadata": {},
   "outputs": [],
   "source": [
    "im = tif.imread(\"data/femur/Femur.tif\")"
   ]
  },
  {
   "cell_type": "code",
   "execution_count": 3,
   "metadata": {},
   "outputs": [
    {
     "data": {
      "text/plain": [
       "(2454, 1030, 1429)"
      ]
     },
     "execution_count": 3,
     "metadata": {},
     "output_type": "execute_result"
    }
   ],
   "source": [
    "im.shape"
   ]
  },
  {
   "cell_type": "code",
   "execution_count": 7,
   "metadata": {},
   "outputs": [
    {
     "name": "stdout",
     "output_type": "stream",
     "text": [
      "Takes up: 902.992263 mb\n"
     ]
    }
   ],
   "source": [
    "print(f\"Takes up: {sys.getsizeof(im) * 1.25E-7} mb\")"
   ]
  }
 ],
 "metadata": {
  "kernelspec": {
   "display_name": ".env",
   "language": "python",
   "name": "python3"
  },
  "language_info": {
   "codemirror_mode": {
    "name": "ipython",
    "version": 3
   },
   "file_extension": ".py",
   "mimetype": "text/x-python",
   "name": "python",
   "nbconvert_exporter": "python",
   "pygments_lexer": "ipython3",
   "version": "3.9.7"
  },
  "orig_nbformat": 4,
  "vscode": {
   "interpreter": {
    "hash": "a19ab1ba5891663eec654cc9f15bbc2e6054c25bfc4e6e066da2fd20d67658da"
   }
  }
 },
 "nbformat": 4,
 "nbformat_minor": 2
}
